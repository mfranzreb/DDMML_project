{
 "cells": [
  {
   "cell_type": "markdown",
   "id": "a7470678-60e0-486d-9870-7b4b499b7dba",
   "metadata": {},
   "source": [
    "# Remaining Life Prediction for Turbofan Engine - Regression"
   ]
  },
  {
   "cell_type": "markdown",
   "id": "2c87716f-ff51-4124-944a-ba1afbe72716",
   "metadata": {
    "tags": []
   },
   "source": [
    "## Data Exploration"
   ]
  },
  {
   "cell_type": "code",
   "execution_count": 1,
   "id": "176dca11-5233-4f69-9bf9-6b5c771e9071",
   "metadata": {
    "tags": []
   },
   "outputs": [],
   "source": [
    "import numpy as np\n",
    "import pandas as pd\n",
    "import matplotlib.pyplot as plt\n",
    "from turbofan_importFDdata import turbofan_importFDdata"
   ]
  },
  {
   "cell_type": "markdown",
   "id": "89bd70e1-760a-4297-9567-aaad42a4e3ff",
   "metadata": {},
   "source": [
    "**Loading the dataset FD002**"
   ]
  },
  {
   "cell_type": "code",
   "execution_count": 2,
   "id": "412fa023-bccb-482f-b244-4f8979fb8aa0",
   "metadata": {
    "tags": []
   },
   "outputs": [
    {
     "data": {
      "text/html": [
       "<div>\n",
       "<style scoped>\n",
       "    .dataframe tbody tr th:only-of-type {\n",
       "        vertical-align: middle;\n",
       "    }\n",
       "\n",
       "    .dataframe tbody tr th {\n",
       "        vertical-align: top;\n",
       "    }\n",
       "\n",
       "    .dataframe thead th {\n",
       "        text-align: right;\n",
       "    }\n",
       "</style>\n",
       "<table border=\"1\" class=\"dataframe\">\n",
       "  <thead>\n",
       "    <tr style=\"text-align: right;\">\n",
       "      <th></th>\n",
       "      <th>Unit</th>\n",
       "      <th>Time</th>\n",
       "      <th>Setting1</th>\n",
       "      <th>Setting2</th>\n",
       "      <th>Setting3</th>\n",
       "      <th>FanInletTemp</th>\n",
       "      <th>LPCOutletTemp</th>\n",
       "      <th>HPCOutletTemp</th>\n",
       "      <th>LPTOutletTemp</th>\n",
       "      <th>FanInletPres</th>\n",
       "      <th>...</th>\n",
       "      <th>FuelFlowRatio</th>\n",
       "      <th>CorrFanSpeed</th>\n",
       "      <th>CorrCoreSpeed</th>\n",
       "      <th>BypassRatio</th>\n",
       "      <th>BurnerFuelAirRatio</th>\n",
       "      <th>BleedEnthalpy</th>\n",
       "      <th>DemandFanSpeed</th>\n",
       "      <th>DemandCorrFanSpeed</th>\n",
       "      <th>HPTCoolantBleed</th>\n",
       "      <th>LPTCoolantBleed</th>\n",
       "    </tr>\n",
       "  </thead>\n",
       "  <tbody>\n",
       "    <tr>\n",
       "      <th>0</th>\n",
       "      <td>1</td>\n",
       "      <td>1</td>\n",
       "      <td>34.9983</td>\n",
       "      <td>0.8400</td>\n",
       "      <td>100.0</td>\n",
       "      <td>449.44</td>\n",
       "      <td>555.32</td>\n",
       "      <td>1358.61</td>\n",
       "      <td>1137.23</td>\n",
       "      <td>5.48</td>\n",
       "      <td>...</td>\n",
       "      <td>183.06</td>\n",
       "      <td>2387.72</td>\n",
       "      <td>8048.56</td>\n",
       "      <td>9.3461</td>\n",
       "      <td>0.02</td>\n",
       "      <td>334</td>\n",
       "      <td>2223</td>\n",
       "      <td>100.00</td>\n",
       "      <td>14.73</td>\n",
       "      <td>8.8071</td>\n",
       "    </tr>\n",
       "    <tr>\n",
       "      <th>1</th>\n",
       "      <td>1</td>\n",
       "      <td>2</td>\n",
       "      <td>41.9982</td>\n",
       "      <td>0.8408</td>\n",
       "      <td>100.0</td>\n",
       "      <td>445.00</td>\n",
       "      <td>549.90</td>\n",
       "      <td>1353.22</td>\n",
       "      <td>1125.78</td>\n",
       "      <td>3.91</td>\n",
       "      <td>...</td>\n",
       "      <td>130.42</td>\n",
       "      <td>2387.66</td>\n",
       "      <td>8072.30</td>\n",
       "      <td>9.3774</td>\n",
       "      <td>0.02</td>\n",
       "      <td>330</td>\n",
       "      <td>2212</td>\n",
       "      <td>100.00</td>\n",
       "      <td>10.41</td>\n",
       "      <td>6.2665</td>\n",
       "    </tr>\n",
       "    <tr>\n",
       "      <th>2</th>\n",
       "      <td>1</td>\n",
       "      <td>3</td>\n",
       "      <td>24.9988</td>\n",
       "      <td>0.6218</td>\n",
       "      <td>60.0</td>\n",
       "      <td>462.54</td>\n",
       "      <td>537.31</td>\n",
       "      <td>1256.76</td>\n",
       "      <td>1047.45</td>\n",
       "      <td>7.05</td>\n",
       "      <td>...</td>\n",
       "      <td>164.22</td>\n",
       "      <td>2028.03</td>\n",
       "      <td>7864.87</td>\n",
       "      <td>10.8941</td>\n",
       "      <td>0.02</td>\n",
       "      <td>309</td>\n",
       "      <td>1915</td>\n",
       "      <td>84.93</td>\n",
       "      <td>14.08</td>\n",
       "      <td>8.6723</td>\n",
       "    </tr>\n",
       "    <tr>\n",
       "      <th>3</th>\n",
       "      <td>1</td>\n",
       "      <td>4</td>\n",
       "      <td>42.0077</td>\n",
       "      <td>0.8416</td>\n",
       "      <td>100.0</td>\n",
       "      <td>445.00</td>\n",
       "      <td>549.51</td>\n",
       "      <td>1354.03</td>\n",
       "      <td>1126.38</td>\n",
       "      <td>3.91</td>\n",
       "      <td>...</td>\n",
       "      <td>130.72</td>\n",
       "      <td>2387.61</td>\n",
       "      <td>8068.66</td>\n",
       "      <td>9.3528</td>\n",
       "      <td>0.02</td>\n",
       "      <td>329</td>\n",
       "      <td>2212</td>\n",
       "      <td>100.00</td>\n",
       "      <td>10.59</td>\n",
       "      <td>6.4701</td>\n",
       "    </tr>\n",
       "    <tr>\n",
       "      <th>4</th>\n",
       "      <td>1</td>\n",
       "      <td>5</td>\n",
       "      <td>25.0005</td>\n",
       "      <td>0.6203</td>\n",
       "      <td>60.0</td>\n",
       "      <td>462.54</td>\n",
       "      <td>537.07</td>\n",
       "      <td>1257.71</td>\n",
       "      <td>1047.93</td>\n",
       "      <td>7.05</td>\n",
       "      <td>...</td>\n",
       "      <td>164.31</td>\n",
       "      <td>2028.00</td>\n",
       "      <td>7861.23</td>\n",
       "      <td>10.8963</td>\n",
       "      <td>0.02</td>\n",
       "      <td>309</td>\n",
       "      <td>1915</td>\n",
       "      <td>84.93</td>\n",
       "      <td>14.13</td>\n",
       "      <td>8.5286</td>\n",
       "    </tr>\n",
       "    <tr>\n",
       "      <th>...</th>\n",
       "      <td>...</td>\n",
       "      <td>...</td>\n",
       "      <td>...</td>\n",
       "      <td>...</td>\n",
       "      <td>...</td>\n",
       "      <td>...</td>\n",
       "      <td>...</td>\n",
       "      <td>...</td>\n",
       "      <td>...</td>\n",
       "      <td>...</td>\n",
       "      <td>...</td>\n",
       "      <td>...</td>\n",
       "      <td>...</td>\n",
       "      <td>...</td>\n",
       "      <td>...</td>\n",
       "      <td>...</td>\n",
       "      <td>...</td>\n",
       "      <td>...</td>\n",
       "      <td>...</td>\n",
       "      <td>...</td>\n",
       "      <td>...</td>\n",
       "    </tr>\n",
       "    <tr>\n",
       "      <th>53754</th>\n",
       "      <td>260</td>\n",
       "      <td>312</td>\n",
       "      <td>20.0037</td>\n",
       "      <td>0.7000</td>\n",
       "      <td>100.0</td>\n",
       "      <td>491.19</td>\n",
       "      <td>608.79</td>\n",
       "      <td>1495.60</td>\n",
       "      <td>1269.51</td>\n",
       "      <td>9.35</td>\n",
       "      <td>...</td>\n",
       "      <td>314.05</td>\n",
       "      <td>2389.02</td>\n",
       "      <td>8169.64</td>\n",
       "      <td>9.3035</td>\n",
       "      <td>0.03</td>\n",
       "      <td>369</td>\n",
       "      <td>2324</td>\n",
       "      <td>100.00</td>\n",
       "      <td>24.36</td>\n",
       "      <td>14.5189</td>\n",
       "    </tr>\n",
       "    <tr>\n",
       "      <th>53755</th>\n",
       "      <td>260</td>\n",
       "      <td>313</td>\n",
       "      <td>10.0022</td>\n",
       "      <td>0.2510</td>\n",
       "      <td>100.0</td>\n",
       "      <td>489.05</td>\n",
       "      <td>605.81</td>\n",
       "      <td>1514.32</td>\n",
       "      <td>1324.12</td>\n",
       "      <td>10.52</td>\n",
       "      <td>...</td>\n",
       "      <td>371.22</td>\n",
       "      <td>2388.42</td>\n",
       "      <td>8245.36</td>\n",
       "      <td>8.7586</td>\n",
       "      <td>0.03</td>\n",
       "      <td>374</td>\n",
       "      <td>2319</td>\n",
       "      <td>100.00</td>\n",
       "      <td>28.10</td>\n",
       "      <td>16.9454</td>\n",
       "    </tr>\n",
       "    <tr>\n",
       "      <th>53756</th>\n",
       "      <td>260</td>\n",
       "      <td>314</td>\n",
       "      <td>25.0041</td>\n",
       "      <td>0.6200</td>\n",
       "      <td>60.0</td>\n",
       "      <td>462.54</td>\n",
       "      <td>537.48</td>\n",
       "      <td>1276.24</td>\n",
       "      <td>1057.92</td>\n",
       "      <td>7.05</td>\n",
       "      <td>...</td>\n",
       "      <td>163.74</td>\n",
       "      <td>2030.33</td>\n",
       "      <td>7971.25</td>\n",
       "      <td>11.0657</td>\n",
       "      <td>0.02</td>\n",
       "      <td>310</td>\n",
       "      <td>1915</td>\n",
       "      <td>84.93</td>\n",
       "      <td>14.19</td>\n",
       "      <td>8.5503</td>\n",
       "    </tr>\n",
       "    <tr>\n",
       "      <th>53757</th>\n",
       "      <td>260</td>\n",
       "      <td>315</td>\n",
       "      <td>25.0033</td>\n",
       "      <td>0.6220</td>\n",
       "      <td>60.0</td>\n",
       "      <td>462.54</td>\n",
       "      <td>537.84</td>\n",
       "      <td>1272.95</td>\n",
       "      <td>1066.30</td>\n",
       "      <td>7.05</td>\n",
       "      <td>...</td>\n",
       "      <td>164.37</td>\n",
       "      <td>2030.35</td>\n",
       "      <td>7972.47</td>\n",
       "      <td>11.0537</td>\n",
       "      <td>0.02</td>\n",
       "      <td>311</td>\n",
       "      <td>1915</td>\n",
       "      <td>84.93</td>\n",
       "      <td>14.05</td>\n",
       "      <td>8.3729</td>\n",
       "    </tr>\n",
       "    <tr>\n",
       "      <th>53758</th>\n",
       "      <td>260</td>\n",
       "      <td>316</td>\n",
       "      <td>35.0036</td>\n",
       "      <td>0.8400</td>\n",
       "      <td>100.0</td>\n",
       "      <td>449.44</td>\n",
       "      <td>556.64</td>\n",
       "      <td>1374.61</td>\n",
       "      <td>1145.52</td>\n",
       "      <td>5.48</td>\n",
       "      <td>...</td>\n",
       "      <td>183.09</td>\n",
       "      <td>2390.38</td>\n",
       "      <td>8185.35</td>\n",
       "      <td>9.3998</td>\n",
       "      <td>0.02</td>\n",
       "      <td>338</td>\n",
       "      <td>2223</td>\n",
       "      <td>100.00</td>\n",
       "      <td>14.75</td>\n",
       "      <td>8.8446</td>\n",
       "    </tr>\n",
       "  </tbody>\n",
       "</table>\n",
       "<p>53759 rows × 26 columns</p>\n",
       "</div>"
      ],
      "text/plain": [
       "       Unit  Time  Setting1  Setting2  Setting3  FanInletTemp  LPCOutletTemp  \\\n",
       "0         1     1   34.9983    0.8400     100.0        449.44         555.32   \n",
       "1         1     2   41.9982    0.8408     100.0        445.00         549.90   \n",
       "2         1     3   24.9988    0.6218      60.0        462.54         537.31   \n",
       "3         1     4   42.0077    0.8416     100.0        445.00         549.51   \n",
       "4         1     5   25.0005    0.6203      60.0        462.54         537.07   \n",
       "...     ...   ...       ...       ...       ...           ...            ...   \n",
       "53754   260   312   20.0037    0.7000     100.0        491.19         608.79   \n",
       "53755   260   313   10.0022    0.2510     100.0        489.05         605.81   \n",
       "53756   260   314   25.0041    0.6200      60.0        462.54         537.48   \n",
       "53757   260   315   25.0033    0.6220      60.0        462.54         537.84   \n",
       "53758   260   316   35.0036    0.8400     100.0        449.44         556.64   \n",
       "\n",
       "       HPCOutletTemp  LPTOutletTemp  FanInletPres  ...  FuelFlowRatio  \\\n",
       "0            1358.61        1137.23          5.48  ...         183.06   \n",
       "1            1353.22        1125.78          3.91  ...         130.42   \n",
       "2            1256.76        1047.45          7.05  ...         164.22   \n",
       "3            1354.03        1126.38          3.91  ...         130.72   \n",
       "4            1257.71        1047.93          7.05  ...         164.31   \n",
       "...              ...            ...           ...  ...            ...   \n",
       "53754        1495.60        1269.51          9.35  ...         314.05   \n",
       "53755        1514.32        1324.12         10.52  ...         371.22   \n",
       "53756        1276.24        1057.92          7.05  ...         163.74   \n",
       "53757        1272.95        1066.30          7.05  ...         164.37   \n",
       "53758        1374.61        1145.52          5.48  ...         183.09   \n",
       "\n",
       "       CorrFanSpeed  CorrCoreSpeed  BypassRatio  BurnerFuelAirRatio  \\\n",
       "0           2387.72        8048.56       9.3461                0.02   \n",
       "1           2387.66        8072.30       9.3774                0.02   \n",
       "2           2028.03        7864.87      10.8941                0.02   \n",
       "3           2387.61        8068.66       9.3528                0.02   \n",
       "4           2028.00        7861.23      10.8963                0.02   \n",
       "...             ...            ...          ...                 ...   \n",
       "53754       2389.02        8169.64       9.3035                0.03   \n",
       "53755       2388.42        8245.36       8.7586                0.03   \n",
       "53756       2030.33        7971.25      11.0657                0.02   \n",
       "53757       2030.35        7972.47      11.0537                0.02   \n",
       "53758       2390.38        8185.35       9.3998                0.02   \n",
       "\n",
       "       BleedEnthalpy  DemandFanSpeed  DemandCorrFanSpeed  HPTCoolantBleed  \\\n",
       "0                334            2223              100.00            14.73   \n",
       "1                330            2212              100.00            10.41   \n",
       "2                309            1915               84.93            14.08   \n",
       "3                329            2212              100.00            10.59   \n",
       "4                309            1915               84.93            14.13   \n",
       "...              ...             ...                 ...              ...   \n",
       "53754            369            2324              100.00            24.36   \n",
       "53755            374            2319              100.00            28.10   \n",
       "53756            310            1915               84.93            14.19   \n",
       "53757            311            1915               84.93            14.05   \n",
       "53758            338            2223              100.00            14.75   \n",
       "\n",
       "       LPTCoolantBleed  \n",
       "0               8.8071  \n",
       "1               6.2665  \n",
       "2               8.6723  \n",
       "3               6.4701  \n",
       "4               8.5286  \n",
       "...                ...  \n",
       "53754          14.5189  \n",
       "53755          16.9454  \n",
       "53756           8.5503  \n",
       "53757           8.3729  \n",
       "53758           8.8446  \n",
       "\n",
       "[53759 rows x 26 columns]"
      ]
     },
     "execution_count": 2,
     "metadata": {},
     "output_type": "execute_result"
    }
   ],
   "source": [
    "data = turbofan_importFDdata('train_FD002.txt')\n",
    "data"
   ]
  },
  {
   "cell_type": "markdown",
   "id": "9eae67ec-aed2-4e5d-8528-2c1023bb2a58",
   "metadata": {},
   "source": [
    "**Overview on all sensor measurments for all units**"
   ]
  },
  {
   "cell_type": "code",
   "execution_count": null,
   "id": "a3bbe50a-9dc0-43aa-86e8-ca6b0bdbaefb",
   "metadata": {
    "tags": []
   },
   "outputs": [],
   "source": [
    "fig, axs = plt.subplots(4, 5)\n",
    "fig.set_figheight(15)\n",
    "fig.set_figwidth(25)\n",
    "\n",
    "# iterate over units\n",
    "\n",
    "for u in range(260): \n",
    "    # iterate over sensor measurments\n",
    "    for s in range(5):\n",
    "        axs[0,s].scatter(data.loc[data.Unit==u+1, 'Time'], data.loc[data.Unit==u+1, data.columns[s+5]])\n",
    "        axs[0,s].set_title(data.columns[s+5])\n",
    "    for s in range(5): \n",
    "        axs[1,s].scatter(data.loc[data.Unit==u+1, 'Time'], data.loc[data.Unit==u+1, data.columns[s+10]])\n",
    "        axs[1,s].set_title(data.columns[s+10])\n",
    "    for s in range(5):\n",
    "        axs[2,s].scatter(data.loc[data.Unit==u+1, 'Time'], data.loc[data.Unit==u+1, data.columns[s+15]])\n",
    "        axs[2,s].set_title(data.columns[s+15])\n",
    "    for s in range(5):\n",
    "        axs[3,s].scatter(data.loc[data.Unit==u+1, 'Time'], data.loc[data.Unit==u+1, data.columns[s+20]])\n",
    "        axs[3,s].set_title(data.columns[s+20])"
   ]
  },
  {
   "cell_type": "markdown",
   "id": "8db82ce7-00f7-436d-8e33-d4be39fd9f9e",
   "metadata": {
    "tags": []
   },
   "source": [
    "**Determining the operation mode from the operational Settings**  \n",
    "We can compute and round the average of the three settings to determine the different operation modes:"
   ]
  },
  {
   "cell_type": "code",
   "execution_count": null,
   "id": "bc868f78-efd3-4268-906d-a1c7a46788b5",
   "metadata": {
    "tags": []
   },
   "outputs": [],
   "source": [
    "modi = np.round((data.loc[:,'Setting1'] + data.loc[:,'Setting2'] + data.loc[:,'Setting3']) /3)\n",
    "print(f'Unique modes: {modi.unique()}')"
   ]
  },
  {
   "cell_type": "markdown",
   "id": "2e9146e0-3b83-4a83-8935-79d9507dd110",
   "metadata": {},
   "source": [
    "We can also view that by clustering the settings:"
   ]
  },
  {
   "cell_type": "code",
   "execution_count": null,
   "id": "045fa9aa-12dd-4985-82a8-57d1036f1ed4",
   "metadata": {
    "tags": []
   },
   "outputs": [],
   "source": [
    "data_per_engine = data.groupby('Unit')\n",
    "data_per_engine = [data_per_engine.get_group(x) for x in data_per_engine.groups]\n",
    "\n",
    "fig = plt.figure(figsize=(10, 10))\n",
    "#add 3d scatter plot\n",
    "ax = fig.add_subplot(111, projection='3d')\n",
    "for i, engine_data in enumerate(data_per_engine):\n",
    "    ax.scatter(engine_data['Setting1'], engine_data['Setting2'], engine_data['Setting3'])"
   ]
  },
  {
   "cell_type": "markdown",
   "id": "84eb3b44-86fe-4ea7-957c-9a876fac11ca",
   "metadata": {},
   "source": [
    "We now add a column containing the operation mode:"
   ]
  },
  {
   "cell_type": "code",
   "execution_count": null,
   "id": "372aaad7-1985-4c39-834b-bf2fac366c5d",
   "metadata": {
    "tags": []
   },
   "outputs": [],
   "source": [
    "data.drop('Setting1', inplace=True, axis=1)\n",
    "data.drop('Setting2', inplace=True, axis=1)\n",
    "data.drop('Setting3', inplace=True, axis=1)\n",
    "data.insert(2, 'Modi', modi)\n",
    "data.loc[data.Modi == 29, 'Modi'] = 1\n",
    "data.loc[data.Modi == 33, 'Modi'] = 2\n",
    "data.loc[data.Modi == 37, 'Modi'] = 3\n",
    "data.loc[data.Modi == 40, 'Modi'] = 4\n",
    "data.loc[data.Modi == 45, 'Modi'] = 5\n",
    "data.loc[data.Modi == 48, 'Modi'] = 6"
   ]
  },
  {
   "cell_type": "code",
   "execution_count": null,
   "id": "1c26fc20-9b35-413e-8f12-b110df2ddfc4",
   "metadata": {
    "tags": []
   },
   "outputs": [],
   "source": [
    "data"
   ]
  },
  {
   "cell_type": "markdown",
   "id": "58e39a15-0125-485d-ad88-e64b78276cc3",
   "metadata": {},
   "source": [
    "## Data Preparation\n",
    "**Shift the time variable to a count down timer for remaining cycles to failure**"
   ]
  },
  {
   "cell_type": "code",
   "execution_count": null,
   "id": "1f04adfb-b4c6-42bf-8822-5855aca81e2f",
   "metadata": {
    "tags": []
   },
   "outputs": [],
   "source": [
    "for i in range(1,261):\n",
    "    data.loc[data.Unit == i] = data.loc[data.Unit == i].assign(Time=data.loc[data.Unit == i].loc[:,\"Time\"].max()-data.loc[data.Unit == i].loc[:,\"Time\"])"
   ]
  },
  {
   "cell_type": "markdown",
   "id": "6cf36ac1-6ff3-4f7b-a88e-a4ab2c194e3f",
   "metadata": {},
   "source": [
    "**Data Standardization**"
   ]
  },
  {
   "cell_type": "code",
   "execution_count": null,
   "id": "bd130c7c-1e57-4f0e-a5d6-1eff4d277cfc",
   "metadata": {
    "tags": []
   },
   "outputs": [],
   "source": [
    "from sklearn.preprocessing import StandardScaler\n",
    "scaler = StandardScaler()\n",
    "data = pd.concat([data.iloc[:,0:3], pd.DataFrame(scaler.fit_transform(data.iloc[:,3:]))], axis=1)"
   ]
  },
  {
   "cell_type": "code",
   "execution_count": null,
   "id": "14ebf11f-99a5-4526-ac34-36da78f977a3",
   "metadata": {
    "tags": []
   },
   "outputs": [],
   "source": [
    "data"
   ]
  },
  {
   "cell_type": "markdown",
   "id": "2345a500-e4e1-4fa4-b862-35cdb3810dc1",
   "metadata": {
    "tags": []
   },
   "source": [
    "**Add labels to the instances of the training set reflecting urgency indicators**"
   ]
  },
  {
   "cell_type": "code",
   "execution_count": null,
   "id": "5e75f05e-71fe-4e3e-941f-5bc5696730af",
   "metadata": {},
   "outputs": [],
   "source": []
  },
  {
   "cell_type": "markdown",
   "id": "5787212b-1cd6-4fd9-bfff-6ef17fafb38b",
   "metadata": {},
   "source": [
    "## Modeling & Training"
   ]
  },
  {
   "cell_type": "markdown",
   "id": "7a9d30b2-6679-4eaa-94a5-eea18cf84c71",
   "metadata": {},
   "source": [
    "## Testing"
   ]
  },
  {
   "cell_type": "code",
   "execution_count": null,
   "id": "4c744478-dff9-442e-9d65-14585d38e081",
   "metadata": {},
   "outputs": [],
   "source": []
  }
 ],
 "metadata": {
  "kernelspec": {
   "display_name": "Python 3 (ipykernel)",
   "language": "python",
   "name": "python3"
  },
  "language_info": {
   "codemirror_mode": {
    "name": "ipython",
    "version": 3
   },
   "file_extension": ".py",
   "mimetype": "text/x-python",
   "name": "python",
   "nbconvert_exporter": "python",
   "pygments_lexer": "ipython3",
   "version": "3.11.6"
  }
 },
 "nbformat": 4,
 "nbformat_minor": 5
}
